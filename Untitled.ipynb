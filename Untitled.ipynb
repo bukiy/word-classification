{
 "cells": [
  {
   "cell_type": "code",
   "execution_count": 1,
   "metadata": {},
   "outputs": [],
   "source": [
    "import numpy as np\n",
    "import pandas as pd \n",
    "import time\n",
    "import os.path\n",
    "from gensim.models import Word2Vec, KeyedVectors\n",
    "from gensim.models.word2vec import Text8Corpus\n",
    "from gensim.similarities.index import AnnoyIndexer\n",
    "from multiprocessing import Process\n",
    "import os\n",
    "import psutil\n",
    "from smart_open import smart_open\n",
    "import matplotlib.pyplot as plt\n",
    "%matplotlib inline"
   ]
  },
  {
   "cell_type": "code",
   "execution_count": 5,
   "metadata": {},
   "outputs": [
    {
     "name": "stdout",
     "output_type": "stream",
     "text": [
      "--2020-12-21 21:20:08--  http://mattmahoney.net/dc/text8.zip\n",
      "Resolving mattmahoney.net (mattmahoney.net)... 67.195.197.24\n",
      "Connecting to mattmahoney.net (mattmahoney.net)|67.195.197.24|:80... connected.\n",
      "HTTP request sent, awaiting response... 200 OK\n",
      "Length: 31344016 (30M) [application/zip]\n",
      "Saving to: ‘text8.zip’\n",
      "\n",
      "text8.zip           100%[===================>]  29.89M   874KB/s    in 35s     \n",
      "\n",
      "2020-12-21 21:20:44 (864 KB/s) - ‘text8.zip’ saved [31344016/31344016]\n",
      "\n",
      "Archive:  text8.zip\n",
      "  inflating: text8                   \n"
     ]
    }
   ],
   "source": [
    "#Downloading the data FROM 'http://mattmahoney.net/dc/text8.zip'\n",
    "if not os.path.isfile('text8'):\n",
    "    !wget -c http://mattmahoney.net/dc/text8.zip\n",
    "    !unzip text8.zip"
   ]
  },
  {
   "cell_type": "code",
   "execution_count": 2,
   "metadata": {},
   "outputs": [
    {
     "name": "stdout",
     "output_type": "stream",
     "text": [
      " anarchism originated as a term of abuse first used against early working class radicals including the diggers of the english revolution and the sans culottes of the french revolution whilst the term is still used in a pejorative way to describe any act that used violent means to destroy the organization of society it has also been taken up as a positive label by self defined anarchists the word anarchism is derived from the greek without archons ruler chief king anarchism as a political philoso\n"
     ]
    }
   ],
   "source": [
    "with open('text8') as file:\n",
    "    text = file.read()\n",
    "print(text[:500])"
   ]
  },
  {
   "cell_type": "code",
   "execution_count": 3,
   "metadata": {},
   "outputs": [
    {
     "name": "stdout",
     "output_type": "stream",
     "text": [
      "Word2Vec(vocab=71290, size=100, alpha=0.05)\n"
     ]
    }
   ],
   "source": [
    "#Build Word2Vec Model\n",
    "\n",
    "params = {\n",
    "    'alpha': 0.05,'size': 100, 'window': 5, 'iter': 5, 'min_count': 5, 'sample': 1e-4, 'sg': 1,'hs': 0,'negative': 5\n",
    "}\n",
    "\n",
    "model = Word2Vec(Text8Corpus('text8'), **params)\n",
    "print(model)"
   ]
  },
  {
   "cell_type": "code",
   "execution_count": 5,
   "metadata": {},
   "outputs": [
    {
     "name": "stderr",
     "output_type": "stream",
     "text": [
      "/opt/conda/lib/python3.7/site-packages/gensim/similarities/index.py:198: FutureWarning: The default argument for metric will be removed in future version of Annoy. Please pass metric='angular' explicitly.\n",
      "  index = AnnoyIndex(num_features)\n",
      "/opt/conda/lib/python3.7/site-packages/ipykernel_launcher.py:3: DeprecationWarning: Call to deprecated `syn0norm` (Attribute will be removed in 4.0.0, use self.vectors_norm instead).\n",
      "  This is separate from the ipykernel package so we can avoid doing imports until\n",
      "/opt/conda/lib/python3.7/site-packages/ipykernel_launcher.py:4: DeprecationWarning: Call to deprecated `most_similar` (Method will be removed in 4.0.0, use self.wv.most_similar() instead).\n",
      "  after removing the cwd from sys.path.\n",
      "/opt/conda/lib/python3.7/site-packages/ipykernel_launcher.py:5: DeprecationWarning: Call to deprecated `most_similar` (Method will be removed in 4.0.0, use self.wv.most_similar() instead).\n",
      "  \"\"\"\n"
     ]
    },
    {
     "data": {
      "text/plain": [
       "[('the', 1.0),\n",
       " ('in', 0.8479881882667542),\n",
       " ('of', 0.8369720578193665),\n",
       " ('a', 0.7717157006263733),\n",
       " ('and', 0.7622777223587036)]"
      ]
     },
     "execution_count": 5,
     "metadata": {},
     "output_type": "execute_result"
    }
   ],
   "source": [
    "model.init_sims()\n",
    "annoy_index = AnnoyIndexer(model, 100)\n",
    "vector = model.wv.syn0norm[0]\n",
    "model.most_similar([vector], topn=5, indexer=annoy_index)\n",
    "model.most_similar([vector], topn=5)"
   ]
  },
  {
   "cell_type": "code",
   "execution_count": 7,
   "metadata": {},
   "outputs": [],
   "source": [
    "def avg_query_time(annoy_index=None, queries=1000):\n",
    "    \"\"\"\n",
    "    Average query time of a most_similar method over 1000 random queries,\n",
    "    uses annoy if given an indexer\n",
    "    \"\"\"\n",
    "    total_time = 0\n",
    "    for _ in range(queries):\n",
    "        rand_vec = model.wv.syn0norm[np.random.randint(0, len(model.wv.vocab))]\n",
    "        start_time = time.clock()\n",
    "        model.most_similar([rand_vec], topn=5, indexer=annoy_index)\n",
    "        total_time += time.clock() - start_time\n",
    "    return total_time / queries\n"
   ]
  },
  {
   "cell_type": "code",
   "execution_count": 8,
   "metadata": {},
   "outputs": [
    {
     "name": "stdout",
     "output_type": "stream",
     "text": [
      "Approximate Neighbors\n",
      "('science', 1.0)\n",
      "('sciences', 0.6051912903785706)\n",
      "('multidisciplinary', 0.600373774766922)\n",
      "('protoscience', 0.594793438911438)\n",
      "('scientific', 0.5937342941761017)\n",
      "('astronautics', 0.5929273962974548)\n",
      "('poststructuralism', 0.5884149372577667)\n",
      "('psychohistory', 0.5853758752346039)\n",
      "('cryobiology', 0.5798679292201996)\n",
      "('astrobiology', 0.5790624022483826)\n",
      "('interdisciplinary', 0.578395426273346)\n",
      "\n",
      "Normal (not Annoy-indexed) Neighbors\n",
      "('science', 1.0)\n",
      "('fiction', 0.7453839778900146)\n",
      "('sciences', 0.6882521510124207)\n",
      "('multidisciplinary', 0.680597722530365)\n",
      "('protoscience', 0.6716153621673584)\n",
      "('scientific', 0.6698964834213257)\n",
      "('astronautics', 0.668583869934082)\n",
      "('poststructuralism', 0.6611955165863037)\n",
      "('technology', 0.6593654751777649)\n",
      "('psychohistory', 0.6561737060546875)\n",
      "('librarianship', 0.6509640216827393)\n"
     ]
    },
    {
     "name": "stderr",
     "output_type": "stream",
     "text": [
      "/opt/conda/lib/python3.7/site-packages/ipykernel_launcher.py:4: DeprecationWarning: Call to deprecated `__getitem__` (Method will be removed in 4.0.0, use self.wv.__getitem__() instead).\n",
      "  after removing the cwd from sys.path.\n",
      "/opt/conda/lib/python3.7/site-packages/ipykernel_launcher.py:6: DeprecationWarning: Call to deprecated `most_similar` (Method will be removed in 4.0.0, use self.wv.most_similar() instead).\n",
      "  \n",
      "/opt/conda/lib/python3.7/site-packages/ipykernel_launcher.py:12: DeprecationWarning: Call to deprecated `most_similar` (Method will be removed in 4.0.0, use self.wv.most_similar() instead).\n",
      "  if sys.path[0] == '':\n"
     ]
    }
   ],
   "source": [
    "# 100 trees are being used \n",
    "annoy_index = AnnoyIndexer(model, 100)\n",
    "# Derive the vector for the word \"science\" in our model\n",
    "vector = model[\"science\"]\n",
    "# The instance of AnnoyIndexer we just created is passed \n",
    "approximate_neighbors = model.most_similar([vector], topn=11, indexer=annoy_index)\n",
    "# Neatly print the approximate_neighbors and their corresponding cosine similarity values\n",
    "print(\"Approximate Neighbors\")\n",
    "for neighbor in approximate_neighbors:\n",
    "    print(neighbor)\n",
    "\n",
    "normal_neighbors = model.most_similar([vector], topn=11)\n",
    "print(\"\\nNormal (not Annoy-indexed) Neighbors\")\n",
    "for neighbor in normal_neighbors:\n",
    "    print(neighbor)"
   ]
  },
  {
   "cell_type": "code",
   "execution_count": 9,
   "metadata": {},
   "outputs": [
    {
     "name": "stderr",
     "output_type": "stream",
     "text": [
      "/opt/conda/lib/python3.7/site-packages/gensim/similarities/index.py:168: FutureWarning: The default argument for metric will be removed in future version of Annoy. Please pass metric='angular' explicitly.\n",
      "  self.index = AnnoyIndex(d['f'])\n"
     ]
    }
   ],
   "source": [
    "fname = '/tmp/mymodel.index'\n",
    "\n",
    "# Persist index to disk\n",
    "annoy_index.save(fname)\n",
    "\n",
    "# Load index back\n",
    "if os.path.exists(fname):\n",
    "    annoy_index2 = AnnoyIndexer()\n",
    "    annoy_index2.load(fname)\n",
    "    annoy_index2.model = model"
   ]
  },
  {
   "cell_type": "code",
   "execution_count": 10,
   "metadata": {},
   "outputs": [
    {
     "name": "stdout",
     "output_type": "stream",
     "text": [
      "('science', 1.0)\n",
      "('sciences', 0.6051912903785706)\n",
      "('multidisciplinary', 0.600373774766922)\n",
      "('protoscience', 0.594793438911438)\n",
      "('scientific', 0.5937342941761017)\n",
      "('astronautics', 0.5929273962974548)\n",
      "('poststructuralism', 0.5884149372577667)\n",
      "('psychohistory', 0.5853758752346039)\n",
      "('cryobiology', 0.5798679292201996)\n",
      "('astrobiology', 0.5790624022483826)\n",
      "('interdisciplinary', 0.578395426273346)\n"
     ]
    },
    {
     "name": "stderr",
     "output_type": "stream",
     "text": [
      "/opt/conda/lib/python3.7/site-packages/ipykernel_launcher.py:2: DeprecationWarning: Call to deprecated `__getitem__` (Method will be removed in 4.0.0, use self.wv.__getitem__() instead).\n",
      "  \n",
      "/opt/conda/lib/python3.7/site-packages/ipykernel_launcher.py:3: DeprecationWarning: Call to deprecated `most_similar` (Method will be removed in 4.0.0, use self.wv.most_similar() instead).\n",
      "  This is separate from the ipykernel package so we can avoid doing imports until\n"
     ]
    }
   ],
   "source": [
    "# Results should be identical to above\n",
    "vector = model[\"science\"]\n",
    "approximate_neighbors2 = model.most_similar([vector], topn=11, indexer=annoy_index2)\n",
    "for neighbor in approximate_neighbors2:\n",
    "    print(neighbor)\n",
    "    \n",
    "assert approximate_neighbors == approximate_neighbors2"
   ]
  },
  {
   "cell_type": "code",
   "execution_count": 11,
   "metadata": {},
   "outputs": [
    {
     "name": "stdout",
     "output_type": "stream",
     "text": [
      "Process Id: 13808\n"
     ]
    },
    {
     "name": "stderr",
     "output_type": "stream",
     "text": [
      "/opt/conda/lib/python3.7/site-packages/ipykernel_launcher.py:7: DeprecationWarning: Call to deprecated `__getitem__` (Method will be removed in 4.0.0, use self.wv.__getitem__() instead).\n",
      "  import sys\n",
      "/opt/conda/lib/python3.7/site-packages/gensim/similarities/index.py:198: FutureWarning: The default argument for metric will be removed in future version of Annoy. Please pass metric='angular' explicitly.\n",
      "  index = AnnoyIndex(num_features)\n",
      "/opt/conda/lib/python3.7/site-packages/ipykernel_launcher.py:9: DeprecationWarning: Call to deprecated `most_similar` (Method will be removed in 4.0.0, use self.wv.most_similar() instead).\n",
      "  if __name__ == '__main__':\n"
     ]
    },
    {
     "name": "stdout",
     "output_type": "stream",
     "text": [
      "\n",
      "Memory used by process 13808: pmem(rss=751247360, vms=2417979392, shared=13754368, text=2306048, lib=0, data=1305649152, dirty=0)\n",
      "---\n",
      "Process Id: 13827\n"
     ]
    },
    {
     "name": "stderr",
     "output_type": "stream",
     "text": [
      "/opt/conda/lib/python3.7/site-packages/ipykernel_launcher.py:7: DeprecationWarning: Call to deprecated `__getitem__` (Method will be removed in 4.0.0, use self.wv.__getitem__() instead).\n",
      "  import sys\n",
      "/opt/conda/lib/python3.7/site-packages/gensim/similarities/index.py:198: FutureWarning: The default argument for metric will be removed in future version of Annoy. Please pass metric='angular' explicitly.\n",
      "  index = AnnoyIndex(num_features)\n",
      "/opt/conda/lib/python3.7/site-packages/ipykernel_launcher.py:9: DeprecationWarning: Call to deprecated `most_similar` (Method will be removed in 4.0.0, use self.wv.most_similar() instead).\n",
      "  if __name__ == '__main__':\n"
     ]
    },
    {
     "name": "stdout",
     "output_type": "stream",
     "text": [
      "\n",
      "Memory used by process 13827: pmem(rss=751792128, vms=2417979392, shared=14213120, text=2306048, lib=0, data=1305661440, dirty=0)\n",
      "---\n"
     ]
    }
   ],
   "source": [
    "model.save('/tmp/mymodel.pkl')\n",
    "\n",
    "def f(process_id):\n",
    "    print('Process Id: {}'.format(os.getpid()))\n",
    "    process = psutil.Process(os.getpid())\n",
    "    new_model = Word2Vec.load('/tmp/mymodel.pkl')\n",
    "    vector = new_model[\"science\"]\n",
    "    annoy_index = AnnoyIndexer(new_model,100)\n",
    "    approximate_neighbors = new_model.most_similar([vector], topn=5, indexer=annoy_index)\n",
    "    print('\\nMemory used by process {}: {}\\n---'.format(os.getpid(), process.memory_info()))\n",
    "\n",
    "# Creating and running two parallel process to share the same index file.\n",
    "p1 = Process(target=f, args=('1',))\n",
    "p1.start()\n",
    "p1.join()\n",
    "p2 = Process(target=f, args=('2',))\n",
    "p2.start()\n",
    "p2.join()"
   ]
  },
  {
   "cell_type": "code",
   "execution_count": 12,
   "metadata": {},
   "outputs": [
    {
     "name": "stdout",
     "output_type": "stream",
     "text": [
      "Process Id: 13882\n"
     ]
    },
    {
     "name": "stderr",
     "output_type": "stream",
     "text": [
      "/opt/conda/lib/python3.7/site-packages/ipykernel_launcher.py:7: DeprecationWarning: Call to deprecated `__getitem__` (Method will be removed in 4.0.0, use self.wv.__getitem__() instead).\n",
      "  import sys\n",
      "/opt/conda/lib/python3.7/site-packages/gensim/similarities/index.py:168: FutureWarning: The default argument for metric will be removed in future version of Annoy. Please pass metric='angular' explicitly.\n",
      "  self.index = AnnoyIndex(d['f'])\n",
      "/opt/conda/lib/python3.7/site-packages/ipykernel_launcher.py:11: DeprecationWarning: Call to deprecated `most_similar` (Method will be removed in 4.0.0, use self.wv.most_similar() instead).\n",
      "  # This is added back by InteractiveShellApp.init_path()\n"
     ]
    },
    {
     "name": "stdout",
     "output_type": "stream",
     "text": [
      "\n",
      "Memory used by process 13882: pmem(rss=603959296, vms=2394456064, shared=35381248, text=2306048, lib=0, data=1136398336, dirty=0)\n",
      "---\n",
      "Process Id: 13903\n"
     ]
    },
    {
     "name": "stderr",
     "output_type": "stream",
     "text": [
      "/opt/conda/lib/python3.7/site-packages/ipykernel_launcher.py:7: DeprecationWarning: Call to deprecated `__getitem__` (Method will be removed in 4.0.0, use self.wv.__getitem__() instead).\n",
      "  import sys\n",
      "/opt/conda/lib/python3.7/site-packages/gensim/similarities/index.py:168: FutureWarning: The default argument for metric will be removed in future version of Annoy. Please pass metric='angular' explicitly.\n",
      "  self.index = AnnoyIndex(d['f'])\n",
      "/opt/conda/lib/python3.7/site-packages/ipykernel_launcher.py:11: DeprecationWarning: Call to deprecated `most_similar` (Method will be removed in 4.0.0, use self.wv.most_similar() instead).\n",
      "  # This is added back by InteractiveShellApp.init_path()\n"
     ]
    },
    {
     "name": "stdout",
     "output_type": "stream",
     "text": [
      "\n",
      "Memory used by process 13903: pmem(rss=603975680, vms=2394456064, shared=35381248, text=2306048, lib=0, data=1136410624, dirty=0)\n",
      "---\n"
     ]
    }
   ],
   "source": [
    "model.save('/tmp/mymodel.pkl')\n",
    "\n",
    "def f(process_id):\n",
    "    print('Process Id: {}'.format(os.getpid()))\n",
    "    process = psutil.Process(os.getpid())\n",
    "    new_model = Word2Vec.load('/tmp/mymodel.pkl')\n",
    "    vector = new_model[\"science\"]\n",
    "    annoy_index = AnnoyIndexer()\n",
    "    annoy_index.load('/tmp/mymodel.index')\n",
    "    annoy_index.model = new_model\n",
    "    approximate_neighbors = new_model.most_similar([vector], topn=5, indexer=annoy_index)\n",
    "    print('\\nMemory used by process {}: {}\\n---'.format(os.getpid(), process.memory_info()))\n",
    "\n",
    "# Creating and running two parallel process to share the same index file.\n",
    "p1 = Process(target=f, args=('1',))\n",
    "p1.start()\n",
    "p1.join()\n",
    "p2 = Process(target=f, args=('2',))\n",
    "p2.start()\n",
    "p2.join()"
   ]
  },
  {
   "cell_type": "code",
   "execution_count": 13,
   "metadata": {},
   "outputs": [
    {
     "name": "stderr",
     "output_type": "stream",
     "text": [
      "/opt/conda/lib/python3.7/site-packages/ipykernel_launcher.py:1: DeprecationWarning: Call to deprecated `syn0norm` (Attribute will be removed in 4.0.0, use self.vectors_norm instead).\n",
      "  \"\"\"Entry point for launching an IPython kernel.\n",
      "/opt/conda/lib/python3.7/site-packages/ipykernel_launcher.py:1: DeprecationWarning: Call to deprecated `most_similar` (Method will be removed in 4.0.0, use self.wv.most_similar() instead).\n",
      "  \"\"\"Entry point for launching an IPython kernel.\n",
      "/opt/conda/lib/python3.7/site-packages/gensim/similarities/index.py:198: FutureWarning: The default argument for metric will be removed in future version of Annoy. Please pass metric='angular' explicitly.\n",
      "  index = AnnoyIndex(num_features)\n",
      "/opt/conda/lib/python3.7/site-packages/ipykernel_launcher.py:12: DeprecationWarning: Call to deprecated `syn0norm` (Attribute will be removed in 4.0.0, use self.vectors_norm instead).\n",
      "  if sys.path[0] == '':\n",
      "/opt/conda/lib/python3.7/site-packages/ipykernel_launcher.py:12: DeprecationWarning: Call to deprecated `most_similar` (Method will be removed in 4.0.0, use self.wv.most_similar() instead).\n",
      "  if sys.path[0] == '':\n"
     ]
    }
   ],
   "source": [
    "exact_results = [element[0] for element in model.most_similar([model.wv.syn0norm[0]], topn=100)]\n",
    "\n",
    "x_values = []\n",
    "y_values_init = []\n",
    "y_values_accuracy = []\n",
    "\n",
    "for x in range(1, 300, 10):\n",
    "    x_values.append(x)\n",
    "    start_time = time.time()\n",
    "    annoy_index = AnnoyIndexer(model, x)\n",
    "    y_values_init.append(time.time() - start_time)\n",
    "    approximate_results = model.most_similar([model.wv.syn0norm[0]], topn=100, indexer=annoy_index)\n",
    "    top_words = [result[0] for result in approximate_results]\n",
    "    y_values_accuracy.append(len(set(top_words).intersection(exact_results)))"
   ]
  },
  {
   "cell_type": "code",
   "execution_count": 14,
   "metadata": {},
   "outputs": [
    {
     "data": {
      "image/png": "[encoded data removed]",
      "text/plain": [
       "<Figure size 864x432 with 2 Axes>"
      ]
     },
     "metadata": {
      "needs_background": "light"
     },
     "output_type": "display_data"
    }
   ],
   "source": [
    "plt.figure(1, figsize=(12, 6))\n",
    "plt.subplot(121)\n",
    "plt.plot(x_values, y_values_init)\n",
    "plt.title(\"num_trees vs initalization time\")\n",
    "plt.ylabel(\"Initialization time (s)\")\n",
    "plt.xlabel(\"num_trees\")\n",
    "plt.subplot(122)\n",
    "plt.plot(x_values, y_values_accuracy)\n",
    "plt.title(\"num_trees vs accuracy\")\n",
    "plt.ylabel(\"% accuracy\")\n",
    "plt.xlabel(\"num_trees\")\n",
    "plt.tight_layout()\n",
    "plt.show()"
   ]
  },
  {
   "cell_type": "code",
   "execution_count": 16,
   "metadata": {},
   "outputs": [],
   "source": [
    "# To export our model as text\n",
    "model.wv.save_word2vec_format('/tmp/vectors.txt', binary=False)\n"
   ]
  },
  {
   "cell_type": "code",
   "execution_count": 17,
   "metadata": {},
   "outputs": [
    {
     "name": "stdout",
     "output_type": "stream",
     "text": [
      "b'71290 100'\n",
      "b'the -0.15432037 0.19217154 0.038808227 0.09317622 -0.11674284 -0.2767831 0.10076288 -0.15219845 -0.023765065 -0.052074794 0.033562925 -0.20990065 -0.16944373 0.11463502 0.020903269 0.10898852 0.08039599 0.23235863 0.07346798 -0.15474099 0.10780382 0.039810788 0.13660839 -0.02990294 -0.19920203 -0.0723238 -0.23817202 -0.14675888 -0.14268617 -0.04369861 -0.13999383 -0.00051101705 -0.22728729 0.022781441 0.05876153 0.21257919 0.014517573 -0.28706622 0.3089436 0.10524593 0.10463632 0.097509496 0.12884836 0.26261568 -0.29225317 -0.11655867 0.046002824 0.1098494 0.051605944 0.041486334 -0.011771691 -0.024357839 0.12772702 -0.09214634 -0.2737319 -0.13455553 0.053391263 0.11762231 0.25425398 -0.23654495 0.16757226 -0.124691136 0.040320475 0.03423605 0.13704798 -0.17086089 0.040189303 -0.20640999 0.12883052 0.07687506 -0.026177768 0.19430591 -0.1741273 0.30590862 -0.059675254 0.024943138 0.1185201 0.1789788 -0.14424504 0.07378733 0.102469176 0.12893187 -0.18925966 -0.050835453 0.012943136 -0.06731281 -0.27862495 -0.14220147 -0.12720782 0.22178915 0.15998036 0.27608424 -0.38776547 0.114211954 0.15518826 0.24452826 0.19922811 -0.0137858 -0.029819634 -0.01604049'\n",
      "b'of -0.18608756 0.31273282 0.011794579 0.17917562 0.0008399284 -0.16132292 0.08307489 -0.10611065 -0.06845607 -0.002002747 0.12707728 -0.3203945 -0.15642016 0.20194753 0.035266183 0.23339728 0.28284648 0.22714521 0.052533377 -0.14307731 0.0956675 -0.023856428 0.09267844 -0.032024603 -0.16541694 0.093354285 -0.3216634 -0.22269769 -0.109742045 -0.12132642 -0.103840195 0.07645612 -0.20339799 0.15811437 0.013705196 0.25936034 0.0848781 -0.14112096 0.21904394 0.092908636 0.15254496 -0.022596626 0.011568289 0.14908972 -0.27722183 -0.07895742 0.20944001 -0.016685702 -0.046461504 -0.057657514 -0.009174418 0.05287767 0.2034152 -0.1617848 -0.21777049 -0.09861209 0.05915651 0.054371938 0.19765785 -0.23939134 0.15211315 -0.08462933 0.07089825 -0.2618061 0.15887667 -0.19171105 -0.010021888 -0.20893599 0.14235634 0.20047204 -0.01101378 0.24553585 -0.05122 0.32432204 -0.12937723 -0.121704526 0.13870831 0.036095932 -0.22568765 -0.08060196 0.16863383 0.0624584 -0.0625741 -0.09365391 0.07109293 -0.047468375 -0.27406722 -0.29490855 -0.0373472 0.0017797361 0.22238454 0.23823251 -0.33469427 0.16023229 0.118452646 0.043606307 0.09041291 -0.08209507 -0.18526748 -0.05514068'\n"
     ]
    }
   ],
   "source": [
    "# The first line has the total number of entries and the vector dimension count. \n",
    "# The next lines have a key (a string) followed by its vector.\n",
    "with smart_open('/tmp/vectors.txt') as myfile:\n",
    "    for i in range(3):\n",
    "        print(myfile.readline().strip())"
   ]
  },
  {
   "cell_type": "code",
   "execution_count": 18,
   "metadata": {},
   "outputs": [],
   "source": [
    "# To import a word2vec text model\n",
    "wv = KeyedVectors.load_word2vec_format('/tmp/vectors.txt', binary=False)"
   ]
  },
  {
   "cell_type": "code",
   "execution_count": 19,
   "metadata": {},
   "outputs": [],
   "source": [
    "# To export our model as binary\n",
    "model.wv.save_word2vec_format('/tmp/vectors.bin', binary=True)\n",
    "# To import a word2vec binary model\n",
    "wv = KeyedVectors.load_word2vec_format('/tmp/vectors.bin', binary=True)"
   ]
  },
  {
   "cell_type": "code",
   "execution_count": 20,
   "metadata": {},
   "outputs": [],
   "source": [
    "# To create and save Annoy Index from a loaded `KeyedVectors` object (with 100 trees)\n",
    "annoy_index = AnnoyIndexer(wv, 100)\n",
    "annoy_index.save('/tmp/mymodel.index')"
   ]
  },
  {
   "cell_type": "code",
   "execution_count": 21,
   "metadata": {},
   "outputs": [
    {
     "name": "stdout",
     "output_type": "stream",
     "text": [
      "Approximate Neighbors\n",
      "('cat', 1.0)\n",
      "('llamas', 0.5736616253852844)\n",
      "('albino', 0.5702820420265198)\n",
      "('cats', 0.5694372653961182)\n",
      "('dog', 0.568528562784195)\n",
      "('sighthound', 0.5674109756946564)\n",
      "('azawakh', 0.5623600482940674)\n",
      "('guppy', 0.5609202980995178)\n",
      "('leopardus', 0.5600495040416718)\n",
      "('prionailurus', 0.5590148866176605)\n",
      "('eared', 0.5586840510368347)\n",
      "\n",
      "Normal (not Annoy-indexed) Neighbors\n",
      "('cat', 0.9999999403953552)\n",
      "('meow', 0.6702187061309814)\n",
      "('felis', 0.6374891996383667)\n",
      "('llamas', 0.6364710927009583)\n",
      "('albino', 0.6306849122047424)\n",
      "('cats', 0.6292315721511841)\n",
      "('kitten', 0.6284611225128174)\n",
      "('dog', 0.6276648044586182)\n",
      "('sighthound', 0.625733494758606)\n",
      "('azawakh', 0.6169425249099731)\n",
      "('guppy', 0.614418089389801)\n"
     ]
    },
    {
     "name": "stderr",
     "output_type": "stream",
     "text": [
      "/opt/conda/lib/python3.7/site-packages/gensim/similarities/index.py:168: FutureWarning: The default argument for metric will be removed in future version of Annoy. Please pass metric='angular' explicitly.\n",
      "  self.index = AnnoyIndex(d['f'])\n"
     ]
    }
   ],
   "source": [
    "# Load and test the saved word vectors and saved annoy index\n",
    "wv = KeyedVectors.load_word2vec_format('/tmp/vectors.bin', binary=True)\n",
    "annoy_index = AnnoyIndexer()\n",
    "annoy_index.load('/tmp/mymodel.index')\n",
    "annoy_index.model = wv\n",
    "\n",
    "vector = wv[\"cat\"]\n",
    "approximate_neighbors = wv.most_similar([vector], topn=11, indexer=annoy_index)\n",
    "# Neatly print the approximate_neighbors and their corresponding cosine similarity values\n",
    "print(\"Approximate Neighbors\")\n",
    "for neighbor in approximate_neighbors:\n",
    "    print(neighbor)\n",
    "\n",
    "normal_neighbors = wv.most_similar([vector], topn=11)\n",
    "print(\"\\nNormal (not Annoy-indexed) Neighbors\")\n",
    "for neighbor in normal_neighbors:\n",
    "    print(neighbor)"
   ]
  },
  {
   "cell_type": "code",
   "execution_count": null,
   "metadata": {},
   "outputs": [],
   "source": []
  }
 ],
 "metadata": {
  "environment": {
   "name": "tf2-2-3-gpu.2-3.m59",
   "type": "gcloud",
   "uri": "gcr.io/deeplearning-platform-release/tf2-2-3-gpu.2-3:m59"
  },
  "kernelspec": {
   "display_name": "Python 3",
   "language": "python",
   "name": "python3"
  },
  "language_info": {
   "codemirror_mode": {
    "name": "ipython",
    "version": 3
   },
   "file_extension": ".py",
   "mimetype": "text/x-python",
   "name": "python",
   "nbconvert_exporter": "python",
   "pygments_lexer": "ipython3",
   "version": "3.7.8"
  }
 },
 "nbformat": 4,
 "nbformat_minor": 4
}
